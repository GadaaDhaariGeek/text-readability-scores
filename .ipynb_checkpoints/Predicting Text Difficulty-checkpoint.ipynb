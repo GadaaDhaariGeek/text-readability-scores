{
 "cells": [
  {
   "cell_type": "code",
   "execution_count": 1,
   "metadata": {},
   "outputs": [],
   "source": [
    "import numpy as np\n",
    "import pandas as pd\n",
    "\n",
    "import re\n",
    "import os\n",
    "from nltk.tokenize import word_tokenize\n",
    "from nltk.tokenize import sent_tokenize\n",
    "\n",
    "import seaborn as sns\n",
    "import warnings\n",
    "warnings.filterwarnings(action=\"ignore\")\n",
    "import matplotlib.pyplot as plt\n",
    "\n",
    "from sklearn.tree import DecisionTreeRegressor"
   ]
  },
  {
   "cell_type": "markdown",
   "metadata": {},
   "source": [
    "## 1. Loading the data"
   ]
  },
  {
   "cell_type": "code",
   "execution_count": 3,
   "metadata": {},
   "outputs": [],
   "source": [
    "# Loading the filename and it's content/story in dataframe\n",
    "# Text data are unicoded.\n",
    "\n",
    "# loading filenemes first\n",
    "directory_path = \"./data/\"\n",
    "filenames = []\n",
    "for filename in os.listdir(directory_path):\n",
    "    filenames.append(filename)\n",
    "\n",
    "# reading the content of each file and putting in a dictionary with filename and text as keys\n",
    "data_dict = {\"filename\": [], \"text\": []}\n",
    "for filename in filenames:\n",
    "    f = open(file=directory_path + filename, encoding=\"utf-8\", mode=\"r\")\n",
    "    x = f.readlines()\n",
    "    if len(x) > 0:\n",
    "        text = x[0]\n",
    "    else:\n",
    "        # Leaving the files which have no content\n",
    "        # Readability of no text does not make sense\n",
    "        continue\n",
    "    data_dict[\"filename\"].append(filename)\n",
    "    data_dict[\"text\"].append(text)"
   ]
  },
  {
   "cell_type": "code",
   "execution_count": 4,
   "metadata": {},
   "outputs": [
    {
     "data": {
      "text/html": [
       "<div>\n",
       "<style scoped>\n",
       "    .dataframe tbody tr th:only-of-type {\n",
       "        vertical-align: middle;\n",
       "    }\n",
       "\n",
       "    .dataframe tbody tr th {\n",
       "        vertical-align: top;\n",
       "    }\n",
       "\n",
       "    .dataframe thead th {\n",
       "        text-align: right;\n",
       "    }\n",
       "</style>\n",
       "<table border=\"1\" class=\"dataframe\">\n",
       "  <thead>\n",
       "    <tr style=\"text-align: right;\">\n",
       "      <th></th>\n",
       "      <th>filename</th>\n",
       "      <th>text</th>\n",
       "    </tr>\n",
       "  </thead>\n",
       "  <tbody>\n",
       "    <tr>\n",
       "      <th>0</th>\n",
       "      <td>1.txt</td>\n",
       "      <td>I asked Ajji, “May I please have some laddoos?...</td>\n",
       "    </tr>\n",
       "    <tr>\n",
       "      <th>1</th>\n",
       "      <td>10.txt</td>\n",
       "      <td>On a cliff there lived a young vulture with hi...</td>\n",
       "    </tr>\n",
       "    <tr>\n",
       "      <th>2</th>\n",
       "      <td>100.txt</td>\n",
       "      <td>Have you met my Aaji? Everyone says that my Aa...</td>\n",
       "    </tr>\n",
       "    <tr>\n",
       "      <th>3</th>\n",
       "      <td>101.txt</td>\n",
       "      <td>Mother's song was soft and sweet. Chandu was l...</td>\n",
       "    </tr>\n",
       "    <tr>\n",
       "      <th>4</th>\n",
       "      <td>102.txt</td>\n",
       "      <td>“A perfect day for a walk!” thinks Mr. Centipe...</td>\n",
       "    </tr>\n",
       "  </tbody>\n",
       "</table>\n",
       "</div>"
      ],
      "text/plain": [
       "  filename                                               text\n",
       "0    1.txt  I asked Ajji, “May I please have some laddoos?...\n",
       "1   10.txt  On a cliff there lived a young vulture with hi...\n",
       "2  100.txt  Have you met my Aaji? Everyone says that my Aa...\n",
       "3  101.txt  Mother's song was soft and sweet. Chandu was l...\n",
       "4  102.txt  “A perfect day for a walk!” thinks Mr. Centipe..."
      ]
     },
     "execution_count": 4,
     "metadata": {},
     "output_type": "execute_result"
    }
   ],
   "source": [
    "# Creating dataframe from the dictionary\n",
    "data = pd.DataFrame(data = data_dict, columns = [\"filename\", \"text\"])\n",
    "data.head()"
   ]
  },
  {
   "cell_type": "markdown",
   "metadata": {},
   "source": [
    "## 2. Cleaning the text"
   ]
  },
  {
   "cell_type": "code",
   "execution_count": 4,
   "metadata": {},
   "outputs": [],
   "source": [
    "# Cleaning the text first\n",
    "# But not changing the punctuation as they will help in tokenize sentences easily\n",
    "def cleaning_the_text(text):\n",
    "    text = text.lower()\n",
    "    \n",
    "    # Changing quotes and double quotes of unicde to ascii ones.\n",
    "    text = re.sub('‘', \"'\", text)\n",
    "    text = re.sub('“', '\"', text)\n",
    "    text = re.sub('’', \"'\", text)\n",
    "    text = re.sub('”', '\"', text)\n",
    "    \n",
    "    \n",
    "    # decontraction short cuts\n",
    "    text = re.sub(r\"won\\'t\", \"will not\", text)\n",
    "    text = re.sub(r\"can\\'t\", \"can not\", text)\n",
    "    text = re.sub(r\"n\\'t\", \" not\", text)\n",
    "    text = re.sub(r\"\\'re\", \" are\", text)\n",
    "    text = re.sub(r\"\\'s\", \" is\", text)\n",
    "    text = re.sub(r\"\\'d\", \" would\", text)\n",
    "    text = re.sub(r\"\\'ll\", \" will\", text)\n",
    "    text = re.sub(r\"\\'t\", \" not\", text)\n",
    "    text = re.sub(r\"\\'ve\", \" have\", text)\n",
    "    text = re.sub(r\"\\'m\", \" am\", text)\n",
    "    \n",
    "    # Removing oher unicose symbols\n",
    "    text = \"\".join([i if ord(i) < 128 else \" \" for i in text])\n",
    "    \n",
    "    # Replacing remaining single quotes and double quotes\n",
    "    text = re.sub('\"', \" \", text)\n",
    "    text = re.sub(\"'\", \" \", text)\n",
    "    \n",
    "    # Add space after a dot, so that we can tokenize the sentences properly\n",
    "    text = re.sub(r\"\\.\", repl=\". \", string = text)\n",
    "    \n",
    "    #Replace comma with space\n",
    "    text = re.sub(r\",\", \" \", text)\n",
    "    \n",
    "    # Reduce more than one consecutive spaces to one\n",
    "    text = re.sub(pattern=\" +\", repl=\" \", string = text)\n",
    "    \n",
    "    return text"
   ]
  },
  {
   "cell_type": "code",
   "execution_count": 5,
   "metadata": {},
   "outputs": [],
   "source": [
    "# Cleaning the story texts\n",
    "data[\"refined_text\"] = data[\"text\"].apply(cleaning_the_text)"
   ]
  },
  {
   "cell_type": "markdown",
   "metadata": {},
   "source": [
    "## 3. Creating new features"
   ]
  },
  {
   "cell_type": "code",
   "execution_count": 6,
   "metadata": {},
   "outputs": [],
   "source": [
    "# Number of sentences in each story\n",
    "def get_sent_count(text):\n",
    "    return len(sent_tokenize(text))\n",
    "\n",
    "data[\"sent_count\"] = data[\"refined_text\"].apply(get_sent_count)\n",
    "\n",
    "# Number of words in each story\n",
    "def get_word_count(text):\n",
    "    temp_words = word_tokenize(text)\n",
    "    words = [word for word in temp_words if word not in \"?.!\"]\n",
    "    return len(words)\n",
    "    \n",
    "data[\"word_count\"] = data[\"refined_text\"].apply(get_word_count)    \n",
    "# Average sentence length in story\n",
    "def get_avg_sent_length(text):\n",
    "    total = len(text)\n",
    "    if len(text) == 0:\n",
    "        return 0\n",
    "    sent_count = len(sent_tokenize(text))\n",
    "    return total/(sent_count * 1.0)\n",
    "\n",
    "data[\"avg_sent_length\"] = data[\"refined_text\"].apply(get_avg_sent_length)\n",
    "\n",
    "# Average of number of words per sentence\n",
    "def get_avg_word_per_sent(text):\n",
    "    sent_count = get_sent_count(text)\n",
    "    word_count = get_word_count(text)\n",
    "    if sent_count == 0:\n",
    "        return 0\n",
    "    return word_count/sent_count\n",
    "\n",
    "data[\"avg_word_per_sent\"] = data[\"refined_text\"].apply(get_avg_word_per_sent)"
   ]
  },
  {
   "cell_type": "code",
   "execution_count": 7,
   "metadata": {},
   "outputs": [],
   "source": [
    "# Calculating the number of syllables if word.\n",
    "# Syllables are the sound of any vowel\n",
    "\n",
    "def syllables(word):\n",
    "    #referred from stackoverflow.com/questions/14541303/count-the-number-of-syllables-in-a-word\n",
    "    count = 0\n",
    "    vowels = 'aeiouy'\n",
    "    word = word.lower().strip(\".:;?!\")\n",
    "    \n",
    "    if len(word) == 0:\n",
    "        return 0\n",
    "    \n",
    "    if word[0] in vowels:\n",
    "        count +=1\n",
    "    for index in range(1,len(word)):\n",
    "        if word[index] in vowels and word[index-1] not in vowels:\n",
    "            count +=1\n",
    "    if word.endswith('e'):\n",
    "        count -= 1\n",
    "    if word.endswith('le'):\n",
    "        count+=1\n",
    "    if count == 0:\n",
    "        count +=1\n",
    "    return count"
   ]
  },
  {
   "cell_type": "code",
   "execution_count": 8,
   "metadata": {},
   "outputs": [],
   "source": [
    "# Average number of syllables per sentence\n",
    "def get_avg_syllable_count_per_sent(text):\n",
    "    if len(text) == 0:\n",
    "        return 0\n",
    "    sent_tokenized = sent_tokenize(text)\n",
    "    temp_words = word_tokenize(text)\n",
    "    words = [word for word in temp_words if word not in \"?.!\"]\n",
    "    syllable_count = [syllables(word) for word in words]\n",
    "    return sum(syllable_count)/len(sent_tokenized)\n",
    "\n",
    "data[\"avg_syllable_per_sent\"] = data[\"refined_text\"].apply(get_avg_syllable_count_per_sent)\n",
    "\n",
    "# Average sentence length by words (words per sentence)\n",
    "data[\"avg_sent_length_by_words\"] = data[\"word_count\"]/data[\"sent_count\"]\n",
    "\n",
    "# Average number of syllable per word in a story\n",
    "def get_avg_word_length_by_syllables(text):\n",
    "    if len(text) == 0:\n",
    "        return 0\n",
    "    temp_words = word_tokenize(text)\n",
    "    words = [word for word in temp_words if word not in \"?.!\"]\n",
    "    syllable_count = [syllables(word) for word in words]\n",
    "    return sum(syllable_count)/len(syllable_count)\n",
    "\n",
    "data[\"avg_word_length_by_syllables\"] = data[\"refined_text\"].apply(get_avg_word_length_by_syllables)"
   ]
  },
  {
   "cell_type": "code",
   "execution_count": 9,
   "metadata": {},
   "outputs": [],
   "source": [
    "# We will also use McLaughlin’s SMOG score as one of the features\n",
    "# Polysyllable count - number of words with greater than 2 syllabels in a sample of 30 sentences\n",
    "# https://en.wikipedia.org/wiki/SMOG\n",
    "def get_smog_score(text):\n",
    "    N = 10\n",
    "    scores = []\n",
    "    for i in range(0, N):\n",
    "        sentences = np.random.choice(a = sent_tokenize(text), size=30, replace=True)\n",
    "        for sent in sentences:\n",
    "            temp_words = word_tokenize(sent)\n",
    "            words = [word for word in temp_words if word not in \"?.!\"]\n",
    "            syllable_score = [1 if syllables(word) > 2 else 0 for word in words]\n",
    "            scores.append(sum(syllable_score))\n",
    "    \n",
    "    return sum(scores)/10"
   ]
  },
  {
   "cell_type": "code",
   "execution_count": 10,
   "metadata": {},
   "outputs": [],
   "source": [
    "data[\"smog_score\"] = data[\"refined_text\"].apply(get_smog_score)"
   ]
  },
  {
   "cell_type": "code",
   "execution_count": 11,
   "metadata": {},
   "outputs": [],
   "source": [
    "# Although, text semantics, average length of sentenc, polysyllable nature of any word etc. are intuitive features \n",
    "# factors which which can tell the readability of text. \n",
    "# But many noble people, created many formulae to calculate the redability level of various texts of different domains\n",
    "# already. "
   ]
  },
  {
   "cell_type": "code",
   "execution_count": 12,
   "metadata": {},
   "outputs": [],
   "source": [
    "# We will use Flesch formula to find the readability of text\n",
    "# https://en.wikipedia.org/wiki/Flesch%E2%80%93Kincaid_readability_tests\n",
    "# We will use this value as our dependent variable in regression task to cross validate our model also.\n",
    "data[\"flesch_reading_ease_score\"] = 206.835 - (1.015 * data[\"avg_sent_length_by_words\"]) - (84.6 * data[\"avg_word_length_by_syllables\"])"
   ]
  },
  {
   "cell_type": "code",
   "execution_count": 13,
   "metadata": {},
   "outputs": [
    {
     "data": {
      "image/png": "[encoded data removed]",
      "text/plain": [
       "<Figure size 432x288 with 1 Axes>"
      ]
     },
     "metadata": {},
     "output_type": "display_data"
    }
   ],
   "source": [
    "sns.distplot(data[\"flesch_reading_ease_score\"])\n",
    "sns.set(style=\"whitegrid\")\n",
    "plt.show()"
   ]
  },
  {
   "cell_type": "code",
   "execution_count": 14,
   "metadata": {},
   "outputs": [
    {
     "data": {
      "text/html": [
       "<div>\n",
       "<style scoped>\n",
       "    .dataframe tbody tr th:only-of-type {\n",
       "        vertical-align: middle;\n",
       "    }\n",
       "\n",
       "    .dataframe tbody tr th {\n",
       "        vertical-align: top;\n",
       "    }\n",
       "\n",
       "    .dataframe thead th {\n",
       "        text-align: right;\n",
       "    }\n",
       "</style>\n",
       "<table border=\"1\" class=\"dataframe\">\n",
       "  <thead>\n",
       "    <tr style=\"text-align: right;\">\n",
       "      <th></th>\n",
       "      <th>filename</th>\n",
       "      <th>text</th>\n",
       "      <th>refined_text</th>\n",
       "      <th>sent_count</th>\n",
       "      <th>word_count</th>\n",
       "      <th>avg_sent_length</th>\n",
       "      <th>avg_word_per_sent</th>\n",
       "      <th>avg_syllable_per_sent</th>\n",
       "      <th>avg_sent_length_by_words</th>\n",
       "      <th>avg_word_length_by_syllables</th>\n",
       "      <th>smog_score</th>\n",
       "      <th>flesch_reading_ease_score</th>\n",
       "    </tr>\n",
       "  </thead>\n",
       "  <tbody>\n",
       "    <tr>\n",
       "      <th>0</th>\n",
       "      <td>1.txt</td>\n",
       "      <td>I asked Ajji, “May I please have some laddoos?...</td>\n",
       "      <td>i asked ajji may i please have some laddoos? n...</td>\n",
       "      <td>22</td>\n",
       "      <td>177</td>\n",
       "      <td>37.727273</td>\n",
       "      <td>8.045455</td>\n",
       "      <td>9.727273</td>\n",
       "      <td>8.045455</td>\n",
       "      <td>1.20904</td>\n",
       "      <td>3.5</td>\n",
       "      <td>96.384118</td>\n",
       "    </tr>\n",
       "  </tbody>\n",
       "</table>\n",
       "</div>"
      ],
      "text/plain": [
       "  filename                                               text  \\\n",
       "0    1.txt  I asked Ajji, “May I please have some laddoos?...   \n",
       "\n",
       "                                        refined_text  sent_count  word_count  \\\n",
       "0  i asked ajji may i please have some laddoos? n...          22         177   \n",
       "\n",
       "   avg_sent_length  avg_word_per_sent  avg_syllable_per_sent  \\\n",
       "0        37.727273           8.045455               9.727273   \n",
       "\n",
       "   avg_sent_length_by_words  avg_word_length_by_syllables  smog_score  \\\n",
       "0                  8.045455                       1.20904         3.5   \n",
       "\n",
       "   flesch_reading_ease_score  \n",
       "0                  96.384118  "
      ]
     },
     "execution_count": 14,
     "metadata": {},
     "output_type": "execute_result"
    }
   ],
   "source": [
    "data.head(1)"
   ]
  },
  {
   "cell_type": "code",
   "execution_count": 15,
   "metadata": {},
   "outputs": [],
   "source": [
    "# As flesch as our dependent variable we will use decision trees and random forests regressor to cross validate the data."
   ]
  },
  {
   "cell_type": "code",
   "execution_count": 16,
   "metadata": {},
   "outputs": [],
   "source": [
    "X = data[['sent_count', 'word_count', 'avg_sent_length', 'avg_word_per_sent', 'avg_syllable_per_sent', \n",
    "      'avg_sent_length_by_words', 'avg_word_length_by_syllables','smog_score']]\n",
    "y = data[[\"flesch_reading_ease_score\"]]"
   ]
  },
  {
   "cell_type": "code",
   "execution_count": 17,
   "metadata": {},
   "outputs": [
    {
     "name": "stdout",
     "output_type": "stream",
     "text": [
      "R squared for training data:  0.9713499814144202\n",
      "R squared for test data:  0.9351118777219171\n"
     ]
    }
   ],
   "source": [
    "from sklearn.model_selection import train_test_split\n",
    "X_train, X_test, y_train, y_test = train_test_split(X, y, test_size=.2, shuffle=True)\n",
    "\n",
    "dtr = DecisionTreeRegressor(max_depth=5)\n",
    "dtr.fit(X_train, y_train)\n",
    "\n",
    "# Calculating r squared in train data\n",
    "print(\"R squared for training data: \", dtr.score(X_train, y_train))\n",
    "\n",
    "# Calculating r squared on test data\n",
    "print(\"R squared for test data: \", dtr.score(X_test, y_test))"
   ]
  },
  {
   "cell_type": "code",
   "execution_count": 18,
   "metadata": {},
   "outputs": [
    {
     "data": {
      "text/plain": [
       "array([0.004, 0.   , 0.465, 0.093, 0.027, 0.   , 0.41 , 0.001])"
      ]
     },
     "execution_count": 18,
     "metadata": {},
     "output_type": "execute_result"
    }
   ],
   "source": [
    "np.round(dtr.feature_importances_, 3)"
   ]
  },
  {
   "cell_type": "code",
   "execution_count": 19,
   "metadata": {},
   "outputs": [],
   "source": [
    "# We can also see that sentence count, word count, avg. sentence length are not that much important\n",
    "# Whereas avg_word_per_sent, avg_word_length_by_syllables, smog_score are important features"
   ]
  },
  {
   "cell_type": "code",
   "execution_count": 20,
   "metadata": {},
   "outputs": [],
   "source": [
    "# We can see that decision tree is able to find the relation between features and flesch readability score "
   ]
  },
  {
   "cell_type": "code",
   "execution_count": 21,
   "metadata": {},
   "outputs": [],
   "source": [
    "# To test a new file \n",
    "def predict_one_sample(file_path, trained_model):\n",
    "    \n",
    "    f = open(file_path, mode=\"r\", encoding=\"utf-8\")\n",
    "    x = f.readlines()\n",
    "    if len(x) > 0:\n",
    "        text = x[0]\n",
    "    else:\n",
    "        print(\"No content in the file\")\n",
    "        return\n",
    "\n",
    "    data_dict = {\"filename\": [], \"text\": []}\n",
    "    data_dict[\"filename\"].append(file_path)\n",
    "    data_dict[\"text\"].append(text)\n",
    "    \n",
    "    data = pd.DataFrame(data = data_dict, columns = [\"filename\", \"text\"])\n",
    "    # print(\"here1\")\n",
    "\n",
    "    data[\"refined_text\"] = data[\"text\"].apply(cleaning_the_text)\n",
    "    data[\"sent_count\"] = data[\"refined_text\"].apply(get_sent_count)\n",
    "    data[\"word_count\"] = data[\"refined_text\"].apply(get_word_count)  \n",
    "    data[\"avg_sent_length\"] = data[\"refined_text\"].apply(get_avg_sent_length)\n",
    "    data[\"avg_word_per_sent\"] = data[\"refined_text\"].apply(get_avg_word_per_sent)\n",
    "    # print(\"here1\")\n",
    "    data[\"avg_syllable_per_sent\"] = data[\"refined_text\"].apply(get_avg_syllable_count_per_sent)\n",
    "    data[\"avg_sent_length_by_words\"] = data[\"word_count\"]/data[\"sent_count\"]\n",
    "    data[\"avg_word_length_by_syllables\"] = data[\"refined_text\"].apply(get_avg_word_length_by_syllables)\n",
    "    data[\"smog_score\"] = data[\"refined_text\"].apply(get_smog_score)\n",
    "    # print(\"here1\")\n",
    "    data[\"flesch_reading_ease_score\"] = 206.835 - (1.015 * data[\"avg_sent_length_by_words\"]) - (84.6 * data[\"avg_word_length_by_syllables\"])\n",
    "\n",
    "    X_sample = data[['sent_count', 'word_count', 'avg_sent_length', 'avg_word_per_sent', 'avg_syllable_per_sent', \n",
    "          'avg_sent_length_by_words', 'avg_word_length_by_syllables','smog_score']]\n",
    "    print(\"Calculated Flesch score: \", data[\"flesch_reading_ease_score\"].values[0])\n",
    "    print(\"Predicted score: \", dtr.predict(X_sample))"
   ]
  },
  {
   "cell_type": "code",
   "execution_count": 22,
   "metadata": {},
   "outputs": [
    {
     "name": "stdout",
     "output_type": "stream",
     "text": [
      "Calculated Flesch score:  80.35170068027212\n",
      "Predicted score:  [81.3695348]\n"
     ]
    }
   ],
   "source": [
    "predict_one_sample(file_path=\"./Story text files/300.txt\", trained_model=dtr)"
   ]
  },
  {
   "cell_type": "code",
   "execution_count": 23,
   "metadata": {},
   "outputs": [],
   "source": [
    "# Future scope\n",
    "# 1. getting more feature using feature egnineering as well as using various formulae which take different aspects of text\n",
    "# 2. Paramteretuning in our decision trees to avoid overfitting \n",
    "# 3. Trying out other algos. like SVM for final cross validation"
   ]
  }
 ],
 "metadata": {
  "kernelspec": {
   "display_name": "Python 3",
   "language": "python",
   "name": "python3"
  },
  "language_info": {
   "codemirror_mode": {
    "name": "ipython",
    "version": 3
   },
   "file_extension": ".py",
   "mimetype": "text/x-python",
   "name": "python",
   "nbconvert_exporter": "python",
   "pygments_lexer": "ipython3",
   "version": "3.6.5"
  }
 },
 "nbformat": 4,
 "nbformat_minor": 2
}
